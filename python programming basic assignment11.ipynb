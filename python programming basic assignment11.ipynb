{
 "cells": [
  {
   "cell_type": "code",
   "execution_count": 1,
   "id": "eb83f78f",
   "metadata": {},
   "outputs": [
    {
     "name": "stdout",
     "output_type": "stream",
     "text": [
      "enter the string this is full stack data science course\n",
      "enter the length 5\n",
      "stack\n",
      "science\n",
      "course\n"
     ]
    }
   ],
   "source": [
    "#1. Write a Python program to find words which are greater than given length k?\n",
    "s=input(\"enter the string \")\n",
    "k=int(input(\"enter the length \"))\n",
    "l=s.split(\" \")\n",
    "for i in l:\n",
    "    if len(i)>=k:\n",
    "      print(i)"
   ]
  },
  {
   "cell_type": "code",
   "execution_count": 2,
   "id": "ac8a1ae3",
   "metadata": {},
   "outputs": [
    {
     "name": "stdout",
     "output_type": "stream",
     "text": [
      "enter the string: this is full stack data science course\n",
      "enter the character no which has to be removed 9\n",
      "the new string after removing is :\n",
      " this is fll stack data science course\n"
     ]
    }
   ],
   "source": [
    "#2. Write a Python program for removing i-th character from a string?\n",
    "s=input(\"enter the string: \")\n",
    "i=int(input(\"enter the character no which has to be removed \"))\n",
    "s1=s[:i]+s[i+1:]\n",
    "print(\"the new string after removing is :\\n\",s1)"
   ]
  },
  {
   "cell_type": "code",
   "execution_count": 3,
   "id": "67f5bc0f",
   "metadata": {},
   "outputs": [
    {
     "name": "stdout",
     "output_type": "stream",
     "text": [
      "enter the string :this is full stack data science course\n",
      "after splitting the string:\n",
      " ['this', 'is', 'full', 'stack', 'data', 'science', 'course']\n",
      "after joining:\n",
      " this is full stack data science course\n"
     ]
    }
   ],
   "source": [
    "#3. Write a Python program to split and join a string?\n",
    "s=input(\"enter the string :\")\n",
    "t=s.split()\n",
    "print(\"after splitting the string:\\n\",t)\n",
    "t=\" \".join(t)\n",
    "print(\"after joining:\\n\",t)"
   ]
  },
  {
   "cell_type": "code",
   "execution_count": 4,
   "id": "df3e0a07",
   "metadata": {},
   "outputs": [
    {
     "name": "stdout",
     "output_type": "stream",
     "text": [
      "enter the string 0101110101110\n",
      "the given string is a binary string\n"
     ]
    }
   ],
   "source": [
    "#4. Write a Python to check if a given string is binary string or not?\n",
    "s=input(\"enter the string \")\n",
    "t=set(s)\n",
    "b={'0','1'}\n",
    "if b==t:\n",
    "    print(\"the given string is a binary string\")\n",
    "else:\n",
    "    print(\"the given string is not a binary string\")"
   ]
  },
  {
   "cell_type": "code",
   "execution_count": 5,
   "id": "70d4e7d2",
   "metadata": {},
   "outputs": [
    {
     "name": "stdout",
     "output_type": "stream",
     "text": [
      "enter the string this is full stack data science course\n",
      "enter the string data science and more\n",
      "{'full', 'and', 'stack', 'course', 'this', 'is', 'more'}\n"
     ]
    }
   ],
   "source": [
    "#5. Write a Python program to find uncommon words from two Strings?\n",
    "s1=input(\"enter the string \")\n",
    "s2=input(\"enter the string \")\n",
    "s1=s1.split()\n",
    "s2=s2.split()\n",
    "l=[]\n",
    "for i in s1:\n",
    "    if i not in s2:\n",
    "        l.append(i)\n",
    "for i in s2:\n",
    "    if i not in s1:\n",
    "        l.append(i)\n",
    "print(set(l))"
   ]
  },
  {
   "cell_type": "code",
   "execution_count": 6,
   "id": "439ed159",
   "metadata": {},
   "outputs": [
    {
     "name": "stdout",
     "output_type": "stream",
     "text": [
      "enter the string:\n",
      " this string is for checking duplicate characters\n",
      "s r a t n h i   g e c "
     ]
    }
   ],
   "source": [
    "#6. Write a Python to find all duplicate characters in string?\n",
    "s=input(\"enter the string:\\n \")\n",
    "for i in set(s):\n",
    "    if s.count(i)>1:\n",
    "        print(i,end=\" \")\n",
    "    else:\n",
    "        continue"
   ]
  },
  {
   "cell_type": "code",
   "execution_count": 7,
   "id": "4f34902e",
   "metadata": {},
   "outputs": [
    {
     "name": "stdout",
     "output_type": "stream",
     "text": [
      "enter the string @data science course\n",
      "the given string contain special characters\n"
     ]
    }
   ],
   "source": [
    "#7. Write a Python Program to check if a string contains any special character?\n",
    "s=input(\"enter the string \")\n",
    "c=0\n",
    "for i in s:\n",
    "    if (i.isalnum() or i==' '):\n",
    "        continue\n",
    "    else:\n",
    "        c=1\n",
    "if c==1:\n",
    "    print(\"the given string contain special characters\")\n",
    "else:\n",
    "    print(\"the given string  does not contain any special characters\")"
   ]
  }
 ],
 "metadata": {
  "kernelspec": {
   "display_name": "Python 3 (ipykernel)",
   "language": "python",
   "name": "python3"
  },
  "language_info": {
   "codemirror_mode": {
    "name": "ipython",
    "version": 3
   },
   "file_extension": ".py",
   "mimetype": "text/x-python",
   "name": "python",
   "nbconvert_exporter": "python",
   "pygments_lexer": "ipython3",
   "version": "3.10.9"
  }
 },
 "nbformat": 4,
 "nbformat_minor": 5
}
